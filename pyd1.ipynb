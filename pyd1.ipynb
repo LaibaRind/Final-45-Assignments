{
  "nbformat": 4,
  "nbformat_minor": 0,
  "metadata": {
    "colab": {
      "provenance": [],
      "authorship_tag": "ABX9TyP/21zEVw+RKq344MYrfDDN",
      "include_colab_link": true
    },
    "kernelspec": {
      "name": "python3",
      "display_name": "Python 3"
    },
    "language_info": {
      "name": "python"
    }
  },
  "cells": [
    {
      "cell_type": "markdown",
      "metadata": {
        "id": "view-in-github",
        "colab_type": "text"
      },
      "source": [
        "<a href=\"https://colab.research.google.com/github/LaibaRind/Final-45-Assignments/blob/main/pyd1.ipynb\" target=\"_parent\"><img src=\"https://colab.research.google.com/assets/colab-badge.svg\" alt=\"Open In Colab\"/></a>"
      ]
    },
    {
      "cell_type": "code",
      "execution_count": null,
      "metadata": {
        "colab": {
          "base_uri": "https://localhost:8080/"
        },
        "id": "3LSQmQVJOBWs",
        "outputId": "21f889c2-7d12-4a15-dd64-c324e5bdb77d"
      },
      "outputs": [
        {
          "output_type": "stream",
          "name": "stdout",
          "text": [
            "Hello, Python Learners! I'm Laiba Anwer.🚀Today is the first step in our coding journey.\n"
          ]
        }
      ],
      "source": [
        "name:str=\"Laiba Anwer\"\n",
        "f_message:str=f'''Hello, Python Learners! I'm {name}.🚀Today is the first step in our coding journey.'''\n",
        "print(f_message)"
      ]
    }
  ]
}